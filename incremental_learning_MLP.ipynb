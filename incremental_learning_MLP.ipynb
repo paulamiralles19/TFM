{
  "nbformat": 4,
  "nbformat_minor": 0,
  "metadata": {
    "colab": {
      "provenance": [],
      "gpuType": "T4"
    },
    "kernelspec": {
      "name": "python3",
      "display_name": "Python 3"
    },
    "language_info": {
      "name": "python"
    }
  },
  "cells": [
    {
      "cell_type": "code",
      "source": [
        "import os\n",
        "import pandas as pd\n",
        "import numpy as np\n",
        "from sklearn.neighbors import NearestNeighbors\n",
        "\n",
        "# Ruta de la carpeta principal que contiene los datos\n",
        "folder_path = '/content/drive/MyDrive/TFM/UJI_LIB_DB_v2.2/db/'\n",
        "\n",
        "meses = [\"01\", \"02\"]#, \"03\", \"04\", \"05\", \"06\", \"07\", \"08\", \"09\", \"10\", \"11\", \"12\", \"13\", \"14\", \"15\", \"16\", \"17\", \"18\", \"19\", \"20\", \"21\", \"22\", \"23\", \"24\", \"25\"]\n",
        "\n",
        "trn_01 = [\"02\", \"03\", \"04\", \"05\", \"06\", \"07\", \"08\", \"09\", \"10\", \"11\", \"12\", \"13\", \"14\", \"15\"]\n",
        "trn_25 = [\"02\"]\n",
        "tst = [\"02\", \"03\", \"04\", \"05\"]\n",
        "\n",
        "df_i = pd.DataFrame()\n",
        "df_o = pd.DataFrame()\n",
        "t_df_i = pd.DataFrame()\n",
        "t_df_o = pd.DataFrame()\n",
        "\n",
        "for session in meses:\n",
        "\n",
        "\n",
        "  # Train\n",
        "  file_path = folder_path + session +  \"/\" + \"trn01rss.csv\"\n",
        "  df_i = pd.concat([df_i, pd.read_csv(file_path, header=None)], ignore_index=True)\n",
        "\n",
        "  file_path = folder_path + session +  \"/\" + \"trn01crd.csv\"\n",
        "  df_o = pd.concat([df_o, pd.read_csv(file_path, header=None)], ignore_index=True)\n",
        "\n",
        "  if session  == \"01\":\n",
        "    for rep in trn_01:\n",
        "\n",
        "      file_path = folder_path + session +  \"/\" + \"trn\" + rep + \"rss.csv\"\n",
        "      df_i = pd.concat([df_i, pd.read_csv(file_path, header=None)], ignore_index=True)\n",
        "\n",
        "      file_path = folder_path + session +  \"/\"+ \"trn\" + rep + \"crd.csv\"\n",
        "      df_o = pd.concat([df_o, pd.read_csv(file_path, header=None)], ignore_index=True)\n",
        "\n",
        "  # Test\n",
        "  file_path = folder_path + session +  \"/\"+ \"tst01rss.csv\"\n",
        "  t_df_i = pd.concat([t_df_i, pd.read_csv(file_path, header=None)], ignore_index=True)\n",
        "\n",
        "  file_path =folder_path + session +  \"/\"+\"tst01crd.csv\"\n",
        "  t_df_o = pd.concat([t_df_o, pd.read_csv(file_path, header=None)], ignore_index=True)\n",
        "\n",
        "  for rep in tst:\n",
        "\n",
        "    file_path = folder_path + session +  \"/\" + \"tst\"+ rep +\"rss.csv\"\n",
        "    t_df_i = pd.concat([t_df_i, pd.read_csv(file_path, header=None)], ignore_index=True)\n",
        "\n",
        "    file_path =folder_path + session +  \"/\" + \"tst\"+ rep +\"crd.csv\"\n",
        "    t_df_o = pd.concat([t_df_o, pd.read_csv(file_path, header=None)], ignore_index=True)\n",
        "\n",
        "\n",
        "\n",
        "# Cambia los valores de la planta por metros. La planta 3 será 0 metros, la planta 5 serán 3.7 metros\n",
        "df_o.iloc[:, 2] = df_o.iloc[:, 2].replace({3: 0, 5: 3.7})\n",
        "# Igual para el de test\n",
        "t_df_o.iloc[:, 2] = t_df_o.iloc[:, 2].replace({3: 0, 5: 3.7})\n",
        "\n",
        "\n",
        "\n"
      ],
      "metadata": {
        "id": "AnbgSmjPad1s"
      },
      "execution_count": null,
      "outputs": []
    },
    {
      "cell_type": "markdown",
      "source": [
        "--------------------------------------------------------------------------------\n",
        "**Limpieza de datos**\n",
        "--------------------------------------------------------------------------------\n",
        "\n"
      ],
      "metadata": {
        "id": "QTXJeocP9-Cl"
      }
    },
    {
      "cell_type": "code",
      "source": [
        "def analyze_potential_active_aps(df, umbral):\n",
        "    missing_counts = (df == 100).sum()\n",
        "    total_measurements = df.shape[0]\n",
        "    active_aps = {}\n",
        "    for ap, missing_count in missing_counts.items():\n",
        "        proportion = 1 - (missing_count / total_measurements)  # Proporción de mediciones con detección\n",
        "        if proportion > umbral:  # Si la proporción de mediciones con detección es mayor al umbral%, considerarlo activo\n",
        "            active_aps[ap] = proportion\n",
        "\n",
        "    active_aps_df = pd.DataFrame.from_dict(active_aps, orient='index', columns=['Proporción de Mediciones con Detección'])\n",
        "    active_aps_df.index.name = 'Punto de Acceso'\n",
        "\n",
        "\n",
        "    return active_aps"
      ],
      "metadata": {
        "id": "rlLzxnBTXR4p"
      },
      "execution_count": null,
      "outputs": []
    },
    {
      "cell_type": "code",
      "source": [
        "import os\n",
        "import pandas as pd\n",
        "import numpy as np\n",
        "from sklearn.neighbors import NearestNeighbors\n",
        "import plotly.graph_objects as go\n",
        "\n",
        "def knn_colums(df_i, proportion):\n",
        "  active_aps = list(analyze_potential_active_aps(df_i, umbral))\n",
        "  df_i_active_aps = df_i.iloc[:,active_aps]\n",
        "  t_df_i_active_aps = t_df_i.iloc[:, active_aps]\n",
        "\n",
        "  num_vecinos = 3 # Para probar otras opciones\n",
        "\n",
        "  knn = NearestNeighbors(n_neighbors=num_vecinos)\n",
        "  knn.fit(df_i_active_aps, df_o)\n",
        "  distances_active, indices_active = knn.kneighbors(t_df_i_active_aps)\n",
        "\n",
        "\n",
        "  knn_df_o_errors=[]\n",
        "\n",
        "\n",
        "  for i in range(len(t_df_i_active_aps)):\n",
        "      knn_df_o = df_o.iloc[indices_active[i],:].mean(axis=0)\n",
        "      distancia_euclidea = np.linalg.norm(t_df_o.iloc[i,:].values - knn_df_o.values)\n",
        "\n",
        "      knn_df_o_errors.append(distancia_euclidea)\n",
        "\n",
        "  media_active_ap = np.mean(knn_df_o_errors)\n",
        "  desviacion_estandar_active_ap = np.std(knn_df_o_errors)\n",
        "  minimo_active_ap = np.min(knn_df_o_errors)\n",
        "  maximo_active_ap = np.max(knn_df_o_errors)\n",
        "\n",
        "\n",
        "  print(\"\\n\")\n",
        "  print(\"\\n\")\n",
        "\n",
        "  return media_active_ap"
      ],
      "metadata": {
        "id": "BNPyHgFNiG3s"
      },
      "execution_count": null,
      "outputs": []
    },
    {
      "cell_type": "code",
      "source": [
        "import matplotlib.pyplot as plt\n",
        "\n",
        "umbrales = np.arange(0, 0.06, 0.005)\n",
        "\n",
        "\n",
        "media_active_ap_vector = []\n",
        "\n",
        "for umbral in umbrales:\n",
        "  media_active_ap = knn_colums(df_i, umbral)\n",
        "  media_active_ap_vector.append(media_active_ap)\n",
        "\n",
        "\n",
        "print(media_active_ap_vector)\n",
        "\n",
        "plt.plot(media_active_ap_vector, '-o')\n",
        "# Añadir etiquetas al eje x y al eje y\n",
        "plt.xlabel('Umbral')\n",
        "plt.ylabel('Media de los errores del kNN')\n",
        "\n",
        "# Añadir título a la gráfica\n",
        "plt.title('Medias de los errores del kNN según el umbral escogido')\n",
        "\n",
        "# Mostrar la gráfica\n",
        "plt.show()"
      ],
      "metadata": {
        "id": "Rvg0TUfb2lSY",
        "colab": {
          "base_uri": "https://localhost:8080/",
          "height": 1000
        },
        "outputId": "4869b316-a63f-4c16-a5ce-2ff7788b936f"
      },
      "execution_count": null,
      "outputs": [
        {
          "output_type": "stream",
          "name": "stdout",
          "text": [
            "\n",
            "\n",
            "\n",
            "\n",
            "\n",
            "\n",
            "\n",
            "\n",
            "\n",
            "\n",
            "\n",
            "\n",
            "\n",
            "\n",
            "\n",
            "\n",
            "\n",
            "\n",
            "\n",
            "\n",
            "\n",
            "\n",
            "\n",
            "\n",
            "\n",
            "\n",
            "\n",
            "\n",
            "\n",
            "\n",
            "\n",
            "\n",
            "\n",
            "\n",
            "\n",
            "\n",
            "\n",
            "\n",
            "\n",
            "\n",
            "\n",
            "\n",
            "\n",
            "\n",
            "\n",
            "\n",
            "\n",
            "\n",
            "[2.7616296468494093, 2.7526112954675996, 2.756833921278934, 2.756550078758465, 2.7515759624727005, 2.734447543755718, 2.734447543755718, 2.7268829047220677, 2.7338516017111827, 2.73624479451397, 2.7365204866171577, 2.742946216015467]\n"
          ]
        },
        {
          "output_type": "display_data",
          "data": {
            "text/plain": [
              "<Figure size 640x480 with 1 Axes>"
            ],
            "image/png": "[encoded data removed]"
          },
          "metadata": {}
        }
      ]
    },
    {
      "cell_type": "code",
      "source": [
        "print(\"Entonces, ¿cual es el menor umbral?\")\n",
        "umbral_definitivo = umbrales[media_active_ap_vector.index(min(media_active_ap_vector))]\n",
        "print(umbral_definitivo)"
      ],
      "metadata": {
        "id": "2nyitoW_xlwt",
        "colab": {
          "base_uri": "https://localhost:8080/"
        },
        "outputId": "c88aa440-a0b5-47b8-eba8-54e0b2529eb0"
      },
      "execution_count": null,
      "outputs": [
        {
          "output_type": "stream",
          "name": "stdout",
          "text": [
            "Entonces, ¿cual es el menor umbral?\n",
            "0.035\n"
          ]
        }
      ]
    },
    {
      "cell_type": "code",
      "source": [
        "print(\"Entonces, nos quedamos con el df_i y t_df_i que cumple con que los PA definidos en esta base de datos tienen detecciones al menos un \", umbral * 100, \"% de las veces\")\n",
        "active_aps_final = list(analyze_potential_active_aps(df_i, umbral_definitivo))\n",
        "X_train = df_i.iloc[:,active_aps_final]\n",
        "X_test = t_df_i.iloc[:,active_aps_final]\n",
        "y_train = df_o\n",
        "y_test = t_df_o\n",
        "\n",
        "\n",
        "#como log, necesito saber el número de PA que estamos considerando\n",
        "print(\"Número de PA que estamos considerando: \", len(X_train.iloc[0,:]))"
      ],
      "metadata": {
        "id": "a1L7z1e3Y0VZ",
        "colab": {
          "base_uri": "https://localhost:8080/"
        },
        "outputId": "f2fb80b9-0701-47cc-d131-44ee521b1b06"
      },
      "execution_count": null,
      "outputs": [
        {
          "output_type": "stream",
          "name": "stdout",
          "text": [
            "Entonces, nos quedamos con el df_i y t_df_i que cumple con que los PA definidos en esta base de datos tienen detecciones al menos un  5.5 % de las vece\n",
            "Número de PA que estamos considerando:  67\n"
          ]
        }
      ]
    },
    {
      "cell_type": "markdown",
      "source": [
        "--------------------------------------------------------------------------------\n",
        "\n",
        "**MLP**"
      ],
      "metadata": {
        "id": "WiBvr3dVHG8G"
      }
    },
    {
      "cell_type": "code",
      "source": [
        "from sklearn.multioutput import MultiOutputRegressor\n",
        "from sklearn.neural_network import MLPRegressor\n",
        "import numpy as np\n",
        "import time\n",
        "\n",
        "mlp = MultiOutputRegressor(MLPRegressor(learning_rate='constant', learning_rate_init=0.01, hidden_layer_sizes=(500,), max_iter=5000, warm_start=True)) #cambio max_iter pq dice que no converge\n",
        "batch_size = 10\n",
        "n_batches = len(X_train) // batch_size\n",
        "\n",
        "start_train = time.time()\n",
        "\n",
        "# Entrenamiento incremental por lotes\n",
        "for i in range(n_batches):\n",
        "    X_batch = X_train[i * batch_size:(i + 1) * batch_size]\n",
        "    y_batch = y_train[i * batch_size:(i + 1) * batch_size]\n",
        "    mlp.partial_fit(X_batch, y_batch)\n",
        "\n",
        "if len(X_train) % batch_size != 0:\n",
        "    X_batch = X_train[n_batches * batch_size:]\n",
        "    y_batch = y_train[n_batches * batch_size:]\n",
        "    mlp.partial_fit(X_batch, y_batch)\n",
        "\n",
        "end_train = time.time()\n",
        "\n",
        "start_pred = time.time()\n",
        "predictions = mlp.predict(X_test)\n",
        "end_pred = time.time()\n",
        "\n",
        "\n",
        "print(predictions[0,:])\n",
        "print(y_test.iloc[0,:])\n",
        "\n",
        "errores = []\n",
        "\n",
        "# Calcular errores individuales\n",
        "for i in range(len(X_test)):\n",
        "    error_i = y_test.iloc[i, :].values - predictions[i]\n",
        "    distancia_euclidea = np.linalg.norm(error_i)\n",
        "    errores.append(distancia_euclidea)\n",
        "\n",
        "# Calcular estadísticas de error\n",
        "media_mlp = np.mean(errores)\n",
        "desviacion_estandar_mlp = np.std(errores)\n",
        "minimo_mlp = np.min(errores)\n",
        "maximo_mlp = np.max(errores)\n",
        "tiempo_entrenamiento_mlp = end_train - start_train\n",
        "tiempo_prediccion_mlp = end_pred - start_pred\n",
        "\n",
        "# Imprimir resultados\n",
        "print(\"Visión general del rendimiento y la dispersión de las predicciones del modelo MLP\")\n",
        "print(f\"Media: {media_mlp:.2f}\")\n",
        "print(f\"Desviación estándar: {desviacion_estandar_mlp:.2f}\")\n",
        "print(f\"Mínimo: {minimo_mlp:.2f}\")\n",
        "print(f\"Máximo: {maximo_mlp:.2f}\")\n",
        "print(f\"Tiempo entrenamiento: {tiempo_entrenamiento_mlp:.2f}\")\n",
        "print(f\"Tiempo predicciones: {tiempo_prediccion_mlp:.2f}\")\n"
      ],
      "metadata": {
        "colab": {
          "base_uri": "https://localhost:8080/"
        },
        "id": "sTgcTQ_Nr_fD",
        "outputId": "8351e797-5046-4991-9fb6-6f8002f1b0e3"
      },
      "execution_count": null,
      "outputs": [
        {
          "output_type": "stream",
          "name": "stdout",
          "text": [
            "[ 7.69081303 13.42283515  0.02863559]\n",
            "0    12.913852\n",
            "1    29.216544\n",
            "2     0.000000\n",
            "Name: 0, dtype: float64\n",
            "Visión general del rendimiento y la dispersión de las predicciones del modelo MLP\n",
            "Media: 14.00\n",
            "Desviación estándar: 5.85\n",
            "Mínimo: 0.30\n",
            "Máximo: 68.23\n",
            "Tiempo entrenamiento: 17.42\n",
            "Tiempo predicciones: 0.10\n"
          ]
        }
      ]
    }
  ]
}
